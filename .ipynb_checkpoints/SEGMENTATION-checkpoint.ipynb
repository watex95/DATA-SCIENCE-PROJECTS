{
 "cells": [
  {
   "cell_type": "markdown",
   "metadata": {},
   "source": [
    "## SEGMENTING AND CLUSTERING COMMERCIAL ENTERPRISES IN NAIROBI, KENYA\n",
    "## INRODUCTION: BUSINESS PROBLEM\n"
   ]
  },
  {
   "cell_type": "markdown",
   "metadata": {},
   "source": [
    "Due to the strategic location of certain venues for commercial enterprises in Nairobi city, Kenya near the central business district, there is a rising number of restaurants and recreational facilities in these area and this has increased the population of Nairobi City County rapidly, which has led to traffic congestion and air/land pollution.\n",
    "\n",
    "Therefore this project analyses the data about the geographical location of these venues in order to visualize the distribution of these facilities by clustering them into different categories that will inform investors on specific location in Nairobi to set up facilities that are less found in those areas.\n",
    "\n",
    "Also this analysis will inform the government on the strategy to improve city connectivity via better roads to and from these venues, whereas have a better understanding of the living standards of citizens from various locations in the city and reroute traffic towards other constituencies at rush hours.\n"
   ]
  },
  {
   "cell_type": "markdown",
   "metadata": {},
   "source": [
    "## DATA"
   ]
  },
  {
   "cell_type": "markdown",
   "metadata": {},
   "source": [
    "The data used in this project is a table of the current constituencies of Nairobi city county, Kenya with the corresponding wards in each constituency. The geographical location of these constituencies and the foursquare data on the venues of different facilities located in these constituencies. The data   is collected from a web page through web scrapping using the python pandas library to read the table from the website. The data about the venues located in each of these constituencies is from foursquare which is requested using foursquare API calls in python libraries; requests and json.normlize.\n",
    "This is the [link](http://www.infohub.co.ke/2016/04/list-of-nairobi-constituencies-and-wards.html.). where I found the constituency data.\n",
    "\n",
    "I intend to explore the constituencies in Nairobi, analyze each constituency and segment them using foursquare API. I will use the explore function to get the most common venue categories in each constituency, and use this feature to group neighbourhoods into clusters. In my analysis i will limit the number of constituencies to 10 and the analyysis radius shall be 500m. I will use the folium library to visualize the constituencies in Nairobi and trending clusters.\n",
    "\n",
    "The data will be used to cluster constituencies based on the category and number of facilities located in each constituency in order to determine the type of economic activity that is predominant in most places of Nairobi in order to inform the decision of investors on what kind of commercial enterprises are still lacking and could be lucrative if set up in certain locations of Nairobi.\n",
    "The government can use this data and analysis to identify congested constituencies and those that still have spaces so that some of this facilities could be set up in those constituencies hence diverting traffic towards those locations and reducing air pollution in the city central business district.\n",
    "\n"
   ]
  }
 ],
 "metadata": {
  "kernelspec": {
   "display_name": "Python 3",
   "language": "python",
   "name": "python3"
  },
  "language_info": {
   "codemirror_mode": {
    "name": "ipython",
    "version": 3
   },
   "file_extension": ".py",
   "mimetype": "text/x-python",
   "name": "python",
   "nbconvert_exporter": "python",
   "pygments_lexer": "ipython3",
   "version": "3.7.0"
  }
 },
 "nbformat": 4,
 "nbformat_minor": 2
}
